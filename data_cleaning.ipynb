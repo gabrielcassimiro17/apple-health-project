{
 "cells": [
  {
   "cell_type": "code",
   "execution_count": 27,
   "outputs": [],
   "source": [
    "import pandas as pd\n",
    "import xmltodict\n",
    "import zipfile\n",
    "import numpy as np"
   ],
   "metadata": {
    "collapsed": false,
    "pycharm": {
     "name": "#%%\n"
    }
   }
  },
  {
   "cell_type": "code",
   "execution_count": 11,
   "outputs": [],
   "source": [],
   "metadata": {
    "collapsed": false,
    "pycharm": {
     "name": "#%%\n"
    }
   }
  },
  {
   "cell_type": "code",
   "execution_count": 13,
   "outputs": [],
   "source": [
    "import zipfile\n",
    "import pandas as pd\n",
    "import xmltodict\n",
    "\n",
    "def new_data_parsing(zip_path:str = 'export.zip' ,save_csv_path:str = 'health_data.csv', save:bool = True) -> pd.DataFrame:\n",
    "    \"\"\"\n",
    "    This function performs the following steps in an Apple Health export\n",
    "    Unzip, parse xml and save as a csv file\n",
    "\n",
    "    :param zip_path: the path to your export zip file\n",
    "    :param save_csv_path: the path to save your csv. Must end in .csv\n",
    "    :param save: Bool to determine if you wish to save the csv or just return it\n",
    "    :return: Returns a data frame containing the parsed health data\n",
    "    \"\"\"\n",
    "\n",
    "    ## Extracting zip\n",
    "    with zipfile.ZipFile(zip_path,\"r\") as zip_ref:\n",
    "        zip_ref.extractall()\n",
    "\n",
    "    ## Parsing xml\n",
    "    input_path = 'apple_health_export/export.xml'\n",
    "    with open(input_path, 'r') as xml_file:\n",
    "        input_data = xmltodict.parse(xml_file.read())\n",
    "\n",
    "    ## Selecting only relevant dict keys\n",
    "    records_list = input_data['HealthData']['Record']\n",
    "\n",
    "    ## Creating and saving csv\n",
    "    df = pd.DataFrame(records_list)\n",
    "    if save:\n",
    "        df.to_csv(save_csv_path,index=False, sep=';')\n",
    "\n",
    "    return df"
   ],
   "metadata": {
    "collapsed": false,
    "pycharm": {
     "name": "#%%\n"
    }
   }
  },
  {
   "cell_type": "code",
   "execution_count": 13,
   "outputs": [],
   "source": [],
   "metadata": {
    "collapsed": false,
    "pycharm": {
     "name": "#%%\n"
    }
   }
  },
  {
   "cell_type": "code",
   "execution_count": 13,
   "outputs": [],
   "source": [],
   "metadata": {
    "collapsed": false,
    "pycharm": {
     "name": "#%%\n"
    }
   }
  },
  {
   "cell_type": "code",
   "execution_count": 13,
   "outputs": [],
   "source": [],
   "metadata": {
    "collapsed": false,
    "pycharm": {
     "name": "#%%\n"
    }
   }
  },
  {
   "cell_type": "code",
   "execution_count": 14,
   "outputs": [
    {
     "data": {
      "text/plain": "                                  @type @sourceName @sourceVersion @unit  \\\n0  HKQuantityTypeIdentifierDietaryWater     Lifesum              2    mL   \n1  HKQuantityTypeIdentifierDietaryWater     Lifesum              3    mL   \n2  HKQuantityTypeIdentifierDietaryWater     Lifesum              1    mL   \n3  HKQuantityTypeIdentifierDietaryWater     Lifesum              1    mL   \n4  HKQuantityTypeIdentifierDietaryWater     Lifesum              1    mL   \n\n               @creationDate                 @startDate  \\\n0  2020-12-05 02:07:11 -0300  2020-12-05 02:07:11 -0300   \n1  2020-06-16 16:07:10 -0300  2020-06-16 16:07:09 -0300   \n2  2020-06-17 15:55:43 -0300  2020-06-17 15:55:42 -0300   \n3  2020-06-19 20:02:19 -0300  2020-06-19 20:02:19 -0300   \n4  2020-06-27 15:30:24 -0300  2020-06-27 15:30:24 -0300   \n\n                    @endDate @value  \\\n0  2020-12-05 02:07:11 -0300      0   \n1  2020-06-16 16:07:09 -0300      0   \n2  2020-06-17 15:55:42 -0300      0   \n3  2020-06-19 20:02:19 -0300      0   \n4  2020-06-27 15:30:24 -0300      0   \n\n                                       MetadataEntry @device  \\\n0  [{'@key': 'HKMetadataKeySyncVersion', '@value'...     NaN   \n1  [{'@key': 'HKMetadataKeySyncVersion', '@value'...     NaN   \n2  [{'@key': 'HKMetadataKeySyncVersion', '@value'...     NaN   \n3  [{'@key': 'HKMetadataKeySyncVersion', '@value'...     NaN   \n4  [{'@key': 'HKMetadataKeySyncVersion', '@value'...     NaN   \n\n  HeartRateVariabilityMetadataList  \n0                              NaN  \n1                              NaN  \n2                              NaN  \n3                              NaN  \n4                              NaN  ",
      "text/html": "<div>\n<style scoped>\n    .dataframe tbody tr th:only-of-type {\n        vertical-align: middle;\n    }\n\n    .dataframe tbody tr th {\n        vertical-align: top;\n    }\n\n    .dataframe thead th {\n        text-align: right;\n    }\n</style>\n<table border=\"1\" class=\"dataframe\">\n  <thead>\n    <tr style=\"text-align: right;\">\n      <th></th>\n      <th>@type</th>\n      <th>@sourceName</th>\n      <th>@sourceVersion</th>\n      <th>@unit</th>\n      <th>@creationDate</th>\n      <th>@startDate</th>\n      <th>@endDate</th>\n      <th>@value</th>\n      <th>MetadataEntry</th>\n      <th>@device</th>\n      <th>HeartRateVariabilityMetadataList</th>\n    </tr>\n  </thead>\n  <tbody>\n    <tr>\n      <th>0</th>\n      <td>HKQuantityTypeIdentifierDietaryWater</td>\n      <td>Lifesum</td>\n      <td>2</td>\n      <td>mL</td>\n      <td>2020-12-05 02:07:11 -0300</td>\n      <td>2020-12-05 02:07:11 -0300</td>\n      <td>2020-12-05 02:07:11 -0300</td>\n      <td>0</td>\n      <td>[{'@key': 'HKMetadataKeySyncVersion', '@value'...</td>\n      <td>NaN</td>\n      <td>NaN</td>\n    </tr>\n    <tr>\n      <th>1</th>\n      <td>HKQuantityTypeIdentifierDietaryWater</td>\n      <td>Lifesum</td>\n      <td>3</td>\n      <td>mL</td>\n      <td>2020-06-16 16:07:10 -0300</td>\n      <td>2020-06-16 16:07:09 -0300</td>\n      <td>2020-06-16 16:07:09 -0300</td>\n      <td>0</td>\n      <td>[{'@key': 'HKMetadataKeySyncVersion', '@value'...</td>\n      <td>NaN</td>\n      <td>NaN</td>\n    </tr>\n    <tr>\n      <th>2</th>\n      <td>HKQuantityTypeIdentifierDietaryWater</td>\n      <td>Lifesum</td>\n      <td>1</td>\n      <td>mL</td>\n      <td>2020-06-17 15:55:43 -0300</td>\n      <td>2020-06-17 15:55:42 -0300</td>\n      <td>2020-06-17 15:55:42 -0300</td>\n      <td>0</td>\n      <td>[{'@key': 'HKMetadataKeySyncVersion', '@value'...</td>\n      <td>NaN</td>\n      <td>NaN</td>\n    </tr>\n    <tr>\n      <th>3</th>\n      <td>HKQuantityTypeIdentifierDietaryWater</td>\n      <td>Lifesum</td>\n      <td>1</td>\n      <td>mL</td>\n      <td>2020-06-19 20:02:19 -0300</td>\n      <td>2020-06-19 20:02:19 -0300</td>\n      <td>2020-06-19 20:02:19 -0300</td>\n      <td>0</td>\n      <td>[{'@key': 'HKMetadataKeySyncVersion', '@value'...</td>\n      <td>NaN</td>\n      <td>NaN</td>\n    </tr>\n    <tr>\n      <th>4</th>\n      <td>HKQuantityTypeIdentifierDietaryWater</td>\n      <td>Lifesum</td>\n      <td>1</td>\n      <td>mL</td>\n      <td>2020-06-27 15:30:24 -0300</td>\n      <td>2020-06-27 15:30:24 -0300</td>\n      <td>2020-06-27 15:30:24 -0300</td>\n      <td>0</td>\n      <td>[{'@key': 'HKMetadataKeySyncVersion', '@value'...</td>\n      <td>NaN</td>\n      <td>NaN</td>\n    </tr>\n  </tbody>\n</table>\n</div>"
     },
     "execution_count": 14,
     "metadata": {},
     "output_type": "execute_result"
    }
   ],
   "source": [
    "df.head()"
   ],
   "metadata": {
    "collapsed": false,
    "pycharm": {
     "name": "#%%\n"
    }
   }
  },
  {
   "cell_type": "code",
   "execution_count": null,
   "outputs": [],
   "source": [],
   "metadata": {
    "collapsed": false,
    "pycharm": {
     "name": "#%%\n"
    }
   }
  },
  {
   "cell_type": "code",
   "execution_count": 8,
   "outputs": [
    {
     "data": {
      "text/plain": "HKQuantityTypeIdentifierActiveEnergyBurned                1430914\nHKQuantityTypeIdentifierHeartRate                          343706\nHKQuantityTypeIdentifierBasalEnergyBurned                  320805\nHKQuantityTypeIdentifierDistanceWalkingRunning             274731\nHKQuantityTypeIdentifierStepCount                          262952\nHKQuantityTypeIdentifierAppleExerciseTime                   46910\nHKQuantityTypeIdentifierAppleStandTime                      37852\nHKCategoryTypeIdentifierAppleStandHour                      26889\nHKQuantityTypeIdentifierEnvironmentalAudioExposure          22457\nHKQuantityTypeIdentifierWalkingSpeed                         8961\nHKQuantityTypeIdentifierWalkingStepLength                    8949\nHKQuantityTypeIdentifierFlightsClimbed                       8477\nHKQuantityTypeIdentifierWalkingDoubleSupportPercentage       6846\nHKQuantityTypeIdentifierHeadphoneAudioExposure               4313\nHKCategoryTypeIdentifierSleepAnalysis                        3897\nHKQuantityTypeIdentifierHeartRateVariabilitySDNN             3149\nHKQuantityTypeIdentifierWalkingAsymmetryPercentage           2080\nHKQuantityTypeIdentifierRestingHeartRate                     1598\nHKQuantityTypeIdentifierWalkingHeartRateAverage              1388\nHKCategoryTypeIdentifierHandwashingEvent                     1229\nHKQuantityTypeIdentifierDistanceCycling                       721\nHKCategoryTypeIdentifierMindfulSession                        270\nHKQuantityTypeIdentifierDistanceSwimming                      258\nHKQuantityTypeIdentifierSwimmingStrokeCount                   257\nHKQuantityTypeIdentifierRespiratoryRate                       201\nHKQuantityTypeIdentifierDietaryEnergyConsumed                 198\nHKQuantityTypeIdentifierDietaryCarbohydrates                  179\nHKQuantityTypeIdentifierDietarySodium                         157\nHKQuantityTypeIdentifierDietaryProtein                        151\nHKQuantityTypeIdentifierDietaryWater                          135\nHKQuantityTypeIdentifierDietaryFatSaturated                   130\nHKQuantityTypeIdentifierDietaryFatTotal                       121\nHKQuantityTypeIdentifierDietaryFiber                           91\nHKQuantityTypeIdentifierDietarySugar                           79\nHKQuantityTypeIdentifierDietaryPotassium                       77\nHKQuantityTypeIdentifierSixMinuteWalkTestDistance              43\nHKQuantityTypeIdentifierAppleWalkingSteadiness                 38\nHKQuantityTypeIdentifierVO2Max                                 37\nHKQuantityTypeIdentifierBodyMass                               29\nHKQuantityTypeIdentifierBodyMassIndex                          27\nHKQuantityTypeIdentifierDietaryCholesterol                     25\nHKQuantityTypeIdentifierBodyFatPercentage                      25\nHKQuantityTypeIdentifierLeanBodyMass                           24\nHKQuantityTypeIdentifierHeight                                  5\nHKDataTypeSleepDurationGoal                                     1\nName: @type, dtype: int64"
     },
     "execution_count": 8,
     "metadata": {},
     "output_type": "execute_result"
    }
   ],
   "source": [
    "df['@type'].value_counts()"
   ],
   "metadata": {
    "collapsed": false,
    "pycharm": {
     "name": "#%%\n"
    }
   }
  },
  {
   "cell_type": "code",
   "execution_count": 9,
   "outputs": [
    {
     "data": {
      "text/plain": "AppleÂ Watch de Gabriel        2233261\nGabrielâ€™s AppleÂ Watch        425216\niPhone de Gabriel Cassimiro     159725\nAutoSleep                         1368\nLifesum                           1347\nForest                             158\nClock                              146\nRenpho                             124\nHeadspace                           33\nHealth                               4\nName: @sourceName, dtype: int64"
     },
     "execution_count": 9,
     "metadata": {},
     "output_type": "execute_result"
    }
   ],
   "source": [
    "df['@sourceName'].value_counts()"
   ],
   "metadata": {
    "collapsed": false,
    "pycharm": {
     "name": "#%%\n"
    }
   }
  },
  {
   "cell_type": "code",
   "execution_count": 15,
   "outputs": [],
   "source": [
    "energy = df[df['@type'] == 'HKQuantityTypeIdentifierActiveEnergyBurned']"
   ],
   "metadata": {
    "collapsed": false,
    "pycharm": {
     "name": "#%%\n"
    }
   }
  },
  {
   "cell_type": "code",
   "execution_count": 17,
   "outputs": [
    {
     "data": {
      "text/plain": "AppleÂ Watch de Gabriel     1237975\nGabrielâ€™s AppleÂ Watch     192939\nName: @sourceName, dtype: int64"
     },
     "execution_count": 17,
     "metadata": {},
     "output_type": "execute_result"
    }
   ],
   "source": [
    "energy['@sourceName'].value_counts()\n"
   ],
   "metadata": {
    "collapsed": false,
    "pycharm": {
     "name": "#%%\n"
    }
   }
  },
  {
   "cell_type": "code",
   "execution_count": 18,
   "outputs": [
    {
     "name": "stderr",
     "output_type": "stream",
     "text": [
      "<timed exec>:3: SettingWithCopyWarning: \n",
      "A value is trying to be set on a copy of a slice from a DataFrame.\n",
      "Try using .loc[row_indexer,col_indexer] = value instead\n",
      "\n",
      "See the caveats in the documentation: https://pandas.pydata.org/pandas-docs/stable/user_guide/indexing.html#returning-a-view-versus-a-copy\n",
      "<timed exec>:5: SettingWithCopyWarning: \n",
      "A value is trying to be set on a copy of a slice from a DataFrame.\n",
      "Try using .loc[row_indexer,col_indexer] = value instead\n",
      "\n",
      "See the caveats in the documentation: https://pandas.pydata.org/pandas-docs/stable/user_guide/indexing.html#returning-a-view-versus-a-copy\n"
     ]
    },
    {
     "name": "stdout",
     "output_type": "stream",
     "text": [
      "CPU times: total: 1min 37s\n",
      "Wall time: 1min 58s\n"
     ]
    },
    {
     "name": "stderr",
     "output_type": "stream",
     "text": [
      "<timed exec>:7: SettingWithCopyWarning: \n",
      "A value is trying to be set on a copy of a slice from a DataFrame.\n",
      "Try using .loc[row_indexer,col_indexer] = value instead\n",
      "\n",
      "See the caveats in the documentation: https://pandas.pydata.org/pandas-docs/stable/user_guide/indexing.html#returning-a-view-versus-a-copy\n"
     ]
    }
   ],
   "source": [
    "%%time\n",
    "format = '%Y-%m-%d %H:%M:%S %z'\n",
    "\n",
    "energy['@creationDate'] = pd.to_datetime(energy['@creationDate'],\n",
    "                                     format=format)\n",
    "energy['@startDate'] = pd.to_datetime(energy['@startDate'],\n",
    "                                  format=format)\n",
    "energy['@endDate'] = pd.to_datetime(energy['@endDate'],\n",
    "                                format=format)\n",
    "energy['@value'] =energy['@value'].astype('float')"
   ],
   "metadata": {
    "collapsed": false,
    "pycharm": {
     "name": "#%%\n"
    }
   }
  },
  {
   "cell_type": "code",
   "execution_count": 19,
   "outputs": [
    {
     "data": {
      "text/plain": "                                              @type               @sourceName  \\\n1202640  HKQuantityTypeIdentifierActiveEnergyBurned   AppleÂ Watch de Gabriel   \n1202641  HKQuantityTypeIdentifierActiveEnergyBurned   AppleÂ Watch de Gabriel   \n1202642  HKQuantityTypeIdentifierActiveEnergyBurned   AppleÂ Watch de Gabriel   \n1202643  HKQuantityTypeIdentifierActiveEnergyBurned   AppleÂ Watch de Gabriel   \n1202644  HKQuantityTypeIdentifierActiveEnergyBurned   AppleÂ Watch de Gabriel   \n...                                             ...                       ...   \n2633549  HKQuantityTypeIdentifierActiveEnergyBurned  Gabrielâ€™s AppleÂ Watch   \n2633550  HKQuantityTypeIdentifierActiveEnergyBurned  Gabrielâ€™s AppleÂ Watch   \n2633551  HKQuantityTypeIdentifierActiveEnergyBurned  Gabrielâ€™s AppleÂ Watch   \n2633552  HKQuantityTypeIdentifierActiveEnergyBurned  Gabrielâ€™s AppleÂ Watch   \n2633553  HKQuantityTypeIdentifierActiveEnergyBurned  Gabrielâ€™s AppleÂ Watch   \n\n        @sourceVersion @unit             @creationDate  \\\n1202640            8.1   Cal 2022-01-27 20:58:07-03:00   \n1202641            8.1   Cal 2022-01-27 20:58:08-03:00   \n1202642            8.1   Cal 2022-01-27 20:59:44-03:00   \n1202643            8.1   Cal 2022-01-27 21:01:56-03:00   \n1202644            8.1   Cal 2022-01-27 21:02:10-03:00   \n...                ...   ...                       ...   \n2633549            8.6   Cal 2022-06-27 14:53:29-03:00   \n2633550            8.6   Cal 2022-06-27 14:53:34-03:00   \n2633551            8.6   Cal 2022-06-27 14:54:42-03:00   \n2633552            8.6   Cal 2022-06-27 14:54:47-03:00   \n2633553            8.6   Cal 2022-06-27 14:56:16-03:00   \n\n                       @startDate                  @endDate @value  \\\n1202640 2022-01-27 20:55:40-03:00 2022-01-27 20:56:41-03:00  0.538   \n1202641 2022-01-27 20:56:41-03:00 2022-01-27 20:57:43-03:00  0.508   \n1202642 2022-01-27 20:57:43-03:00 2022-01-27 20:58:34-03:00  0.263   \n1202643 2022-01-27 20:58:34-03:00 2022-01-27 20:59:35-03:00  0.553   \n1202644 2022-01-27 20:59:35-03:00 2022-01-27 21:00:36-03:00  0.311   \n...                           ...                       ...    ...   \n2633549 2022-06-27 14:52:20-03:00 2022-06-27 14:53:11-03:00  0.201   \n2633550 2022-06-27 14:53:11-03:00 2022-06-27 14:53:22-03:00  0.062   \n2633551 2022-06-27 14:53:22-03:00 2022-06-27 14:54:02-03:00  0.139   \n2633552 2022-06-27 14:54:02-03:00 2022-06-27 14:54:33-03:00   0.14   \n2633553 2022-06-27 14:54:33-03:00 2022-06-27 14:54:43-03:00  0.031   \n\n        MetadataEntry                                            @device  \\\n1202640           NaN  <<HKDevice: 0x280668500>, name:Apple Watch, ma...   \n1202641           NaN  <<HKDevice: 0x280668500>, name:Apple Watch, ma...   \n1202642           NaN  <<HKDevice: 0x280668500>, name:Apple Watch, ma...   \n1202643           NaN  <<HKDevice: 0x280668500>, name:Apple Watch, ma...   \n1202644           NaN  <<HKDevice: 0x280668500>, name:Apple Watch, ma...   \n...               ...                                                ...   \n2633549           NaN  <<HKDevice: 0x280668dc0>, name:Apple Watch, ma...   \n2633550           NaN  <<HKDevice: 0x280668dc0>, name:Apple Watch, ma...   \n2633551           NaN  <<HKDevice: 0x280668dc0>, name:Apple Watch, ma...   \n2633552           NaN  <<HKDevice: 0x280668dc0>, name:Apple Watch, ma...   \n2633553           NaN  <<HKDevice: 0x280668dc0>, name:Apple Watch, ma...   \n\n        HeartRateVariabilityMetadataList  \n1202640                              NaN  \n1202641                              NaN  \n1202642                              NaN  \n1202643                              NaN  \n1202644                              NaN  \n...                                  ...  \n2633549                              NaN  \n2633550                              NaN  \n2633551                              NaN  \n2633552                              NaN  \n2633553                              NaN  \n\n[1430914 rows x 11 columns]",
      "text/html": "<div>\n<style scoped>\n    .dataframe tbody tr th:only-of-type {\n        vertical-align: middle;\n    }\n\n    .dataframe tbody tr th {\n        vertical-align: top;\n    }\n\n    .dataframe thead th {\n        text-align: right;\n    }\n</style>\n<table border=\"1\" class=\"dataframe\">\n  <thead>\n    <tr style=\"text-align: right;\">\n      <th></th>\n      <th>@type</th>\n      <th>@sourceName</th>\n      <th>@sourceVersion</th>\n      <th>@unit</th>\n      <th>@creationDate</th>\n      <th>@startDate</th>\n      <th>@endDate</th>\n      <th>@value</th>\n      <th>MetadataEntry</th>\n      <th>@device</th>\n      <th>HeartRateVariabilityMetadataList</th>\n    </tr>\n  </thead>\n  <tbody>\n    <tr>\n      <th>1202640</th>\n      <td>HKQuantityTypeIdentifierActiveEnergyBurned</td>\n      <td>AppleÂ Watch de Gabriel</td>\n      <td>8.1</td>\n      <td>Cal</td>\n      <td>2022-01-27 20:58:07-03:00</td>\n      <td>2022-01-27 20:55:40-03:00</td>\n      <td>2022-01-27 20:56:41-03:00</td>\n      <td>0.538</td>\n      <td>NaN</td>\n      <td>&lt;&lt;HKDevice: 0x280668500&gt;, name:Apple Watch, ma...</td>\n      <td>NaN</td>\n    </tr>\n    <tr>\n      <th>1202641</th>\n      <td>HKQuantityTypeIdentifierActiveEnergyBurned</td>\n      <td>AppleÂ Watch de Gabriel</td>\n      <td>8.1</td>\n      <td>Cal</td>\n      <td>2022-01-27 20:58:08-03:00</td>\n      <td>2022-01-27 20:56:41-03:00</td>\n      <td>2022-01-27 20:57:43-03:00</td>\n      <td>0.508</td>\n      <td>NaN</td>\n      <td>&lt;&lt;HKDevice: 0x280668500&gt;, name:Apple Watch, ma...</td>\n      <td>NaN</td>\n    </tr>\n    <tr>\n      <th>1202642</th>\n      <td>HKQuantityTypeIdentifierActiveEnergyBurned</td>\n      <td>AppleÂ Watch de Gabriel</td>\n      <td>8.1</td>\n      <td>Cal</td>\n      <td>2022-01-27 20:59:44-03:00</td>\n      <td>2022-01-27 20:57:43-03:00</td>\n      <td>2022-01-27 20:58:34-03:00</td>\n      <td>0.263</td>\n      <td>NaN</td>\n      <td>&lt;&lt;HKDevice: 0x280668500&gt;, name:Apple Watch, ma...</td>\n      <td>NaN</td>\n    </tr>\n    <tr>\n      <th>1202643</th>\n      <td>HKQuantityTypeIdentifierActiveEnergyBurned</td>\n      <td>AppleÂ Watch de Gabriel</td>\n      <td>8.1</td>\n      <td>Cal</td>\n      <td>2022-01-27 21:01:56-03:00</td>\n      <td>2022-01-27 20:58:34-03:00</td>\n      <td>2022-01-27 20:59:35-03:00</td>\n      <td>0.553</td>\n      <td>NaN</td>\n      <td>&lt;&lt;HKDevice: 0x280668500&gt;, name:Apple Watch, ma...</td>\n      <td>NaN</td>\n    </tr>\n    <tr>\n      <th>1202644</th>\n      <td>HKQuantityTypeIdentifierActiveEnergyBurned</td>\n      <td>AppleÂ Watch de Gabriel</td>\n      <td>8.1</td>\n      <td>Cal</td>\n      <td>2022-01-27 21:02:10-03:00</td>\n      <td>2022-01-27 20:59:35-03:00</td>\n      <td>2022-01-27 21:00:36-03:00</td>\n      <td>0.311</td>\n      <td>NaN</td>\n      <td>&lt;&lt;HKDevice: 0x280668500&gt;, name:Apple Watch, ma...</td>\n      <td>NaN</td>\n    </tr>\n    <tr>\n      <th>...</th>\n      <td>...</td>\n      <td>...</td>\n      <td>...</td>\n      <td>...</td>\n      <td>...</td>\n      <td>...</td>\n      <td>...</td>\n      <td>...</td>\n      <td>...</td>\n      <td>...</td>\n      <td>...</td>\n    </tr>\n    <tr>\n      <th>2633549</th>\n      <td>HKQuantityTypeIdentifierActiveEnergyBurned</td>\n      <td>Gabrielâ€™s AppleÂ Watch</td>\n      <td>8.6</td>\n      <td>Cal</td>\n      <td>2022-06-27 14:53:29-03:00</td>\n      <td>2022-06-27 14:52:20-03:00</td>\n      <td>2022-06-27 14:53:11-03:00</td>\n      <td>0.201</td>\n      <td>NaN</td>\n      <td>&lt;&lt;HKDevice: 0x280668dc0&gt;, name:Apple Watch, ma...</td>\n      <td>NaN</td>\n    </tr>\n    <tr>\n      <th>2633550</th>\n      <td>HKQuantityTypeIdentifierActiveEnergyBurned</td>\n      <td>Gabrielâ€™s AppleÂ Watch</td>\n      <td>8.6</td>\n      <td>Cal</td>\n      <td>2022-06-27 14:53:34-03:00</td>\n      <td>2022-06-27 14:53:11-03:00</td>\n      <td>2022-06-27 14:53:22-03:00</td>\n      <td>0.062</td>\n      <td>NaN</td>\n      <td>&lt;&lt;HKDevice: 0x280668dc0&gt;, name:Apple Watch, ma...</td>\n      <td>NaN</td>\n    </tr>\n    <tr>\n      <th>2633551</th>\n      <td>HKQuantityTypeIdentifierActiveEnergyBurned</td>\n      <td>Gabrielâ€™s AppleÂ Watch</td>\n      <td>8.6</td>\n      <td>Cal</td>\n      <td>2022-06-27 14:54:42-03:00</td>\n      <td>2022-06-27 14:53:22-03:00</td>\n      <td>2022-06-27 14:54:02-03:00</td>\n      <td>0.139</td>\n      <td>NaN</td>\n      <td>&lt;&lt;HKDevice: 0x280668dc0&gt;, name:Apple Watch, ma...</td>\n      <td>NaN</td>\n    </tr>\n    <tr>\n      <th>2633552</th>\n      <td>HKQuantityTypeIdentifierActiveEnergyBurned</td>\n      <td>Gabrielâ€™s AppleÂ Watch</td>\n      <td>8.6</td>\n      <td>Cal</td>\n      <td>2022-06-27 14:54:47-03:00</td>\n      <td>2022-06-27 14:54:02-03:00</td>\n      <td>2022-06-27 14:54:33-03:00</td>\n      <td>0.14</td>\n      <td>NaN</td>\n      <td>&lt;&lt;HKDevice: 0x280668dc0&gt;, name:Apple Watch, ma...</td>\n      <td>NaN</td>\n    </tr>\n    <tr>\n      <th>2633553</th>\n      <td>HKQuantityTypeIdentifierActiveEnergyBurned</td>\n      <td>Gabrielâ€™s AppleÂ Watch</td>\n      <td>8.6</td>\n      <td>Cal</td>\n      <td>2022-06-27 14:56:16-03:00</td>\n      <td>2022-06-27 14:54:33-03:00</td>\n      <td>2022-06-27 14:54:43-03:00</td>\n      <td>0.031</td>\n      <td>NaN</td>\n      <td>&lt;&lt;HKDevice: 0x280668dc0&gt;, name:Apple Watch, ma...</td>\n      <td>NaN</td>\n    </tr>\n  </tbody>\n</table>\n<p>1430914 rows × 11 columns</p>\n</div>"
     },
     "execution_count": 19,
     "metadata": {},
     "output_type": "execute_result"
    }
   ],
   "source": [
    "energy"
   ],
   "metadata": {
    "collapsed": false,
    "pycharm": {
     "name": "#%%\n"
    }
   }
  },
  {
   "cell_type": "code",
   "execution_count": 32,
   "outputs": [
    {
     "name": "stderr",
     "output_type": "stream",
     "text": [
      "C:\\Users\\gabrielcassimiro\\AppData\\Local\\Temp\\ipykernel_5224\\2212404062.py:1: SettingWithCopyWarning: \n",
      "A value is trying to be set on a copy of a slice from a DataFrame.\n",
      "Try using .loc[row_indexer,col_indexer] = value instead\n",
      "\n",
      "See the caveats in the documentation: https://pandas.pydata.org/pandas-docs/stable/user_guide/indexing.html#returning-a-view-versus-a-copy\n",
      "  energy['date'] = energy['@startDate'].dt.strftime('%Y-%m-%d')\n"
     ]
    }
   ],
   "source": [
    "energy['date'] = energy['@startDate'].dt.strftime('%Y-%m-%d')"
   ],
   "metadata": {
    "collapsed": false,
    "pycharm": {
     "name": "#%%\n"
    }
   }
  },
  {
   "cell_type": "code",
   "execution_count": 33,
   "outputs": [
    {
     "name": "stdout",
     "output_type": "stream",
     "text": [
      "2022-06-27 2017-09-24\n"
     ]
    }
   ],
   "source": [
    "print(energy['date'].max(), energy['date'].min())"
   ],
   "metadata": {
    "collapsed": false,
    "pycharm": {
     "name": "#%%\n"
    }
   }
  },
  {
   "cell_type": "code",
   "execution_count": 42,
   "outputs": [
    {
     "data": {
      "text/plain": "            date    @value\n0     2017-09-24    47.295\n1     2017-09-25   573.783\n2     2017-09-26   651.558\n3     2017-09-27   586.813\n4     2017-09-28   352.367\n...          ...       ...\n1629  2022-06-23  1065.173\n1630  2022-06-24  1006.606\n1631  2022-06-25   512.258\n1632  2022-06-26   713.598\n1633  2022-06-27   198.406\n\n[1634 rows x 2 columns]",
      "text/html": "<div>\n<style scoped>\n    .dataframe tbody tr th:only-of-type {\n        vertical-align: middle;\n    }\n\n    .dataframe tbody tr th {\n        vertical-align: top;\n    }\n\n    .dataframe thead th {\n        text-align: right;\n    }\n</style>\n<table border=\"1\" class=\"dataframe\">\n  <thead>\n    <tr style=\"text-align: right;\">\n      <th></th>\n      <th>date</th>\n      <th>@value</th>\n    </tr>\n  </thead>\n  <tbody>\n    <tr>\n      <th>0</th>\n      <td>2017-09-24</td>\n      <td>47.295</td>\n    </tr>\n    <tr>\n      <th>1</th>\n      <td>2017-09-25</td>\n      <td>573.783</td>\n    </tr>\n    <tr>\n      <th>2</th>\n      <td>2017-09-26</td>\n      <td>651.558</td>\n    </tr>\n    <tr>\n      <th>3</th>\n      <td>2017-09-27</td>\n      <td>586.813</td>\n    </tr>\n    <tr>\n      <th>4</th>\n      <td>2017-09-28</td>\n      <td>352.367</td>\n    </tr>\n    <tr>\n      <th>...</th>\n      <td>...</td>\n      <td>...</td>\n    </tr>\n    <tr>\n      <th>1629</th>\n      <td>2022-06-23</td>\n      <td>1065.173</td>\n    </tr>\n    <tr>\n      <th>1630</th>\n      <td>2022-06-24</td>\n      <td>1006.606</td>\n    </tr>\n    <tr>\n      <th>1631</th>\n      <td>2022-06-25</td>\n      <td>512.258</td>\n    </tr>\n    <tr>\n      <th>1632</th>\n      <td>2022-06-26</td>\n      <td>713.598</td>\n    </tr>\n    <tr>\n      <th>1633</th>\n      <td>2022-06-27</td>\n      <td>198.406</td>\n    </tr>\n  </tbody>\n</table>\n<p>1634 rows × 2 columns</p>\n</div>"
     },
     "execution_count": 42,
     "metadata": {},
     "output_type": "execute_result"
    }
   ],
   "source": [
    "data = energy.groupby(['date'])['@value'].sum().reset_index()\n",
    "data"
   ],
   "metadata": {
    "collapsed": false,
    "pycharm": {
     "name": "#%%\n"
    }
   }
  },
  {
   "cell_type": "code",
   "execution_count": 43,
   "outputs": [
    {
     "data": {
      "text/plain": "1132.418"
     },
     "execution_count": 43,
     "metadata": {},
     "output_type": "execute_result"
    }
   ],
   "source": [
    "data['@value'].max()"
   ],
   "metadata": {
    "collapsed": false,
    "pycharm": {
     "name": "#%%\n"
    }
   }
  },
  {
   "cell_type": "code",
   "execution_count": 44,
   "outputs": [
    {
     "data": {
      "text/plain": "count    1634.000000\nmean      445.899458\nstd       207.319226\nmin         0.009000\n25%       322.892250\n50%       410.203500\n75%       549.594250\nmax      1132.418000\nName: @value, dtype: float64"
     },
     "execution_count": 44,
     "metadata": {},
     "output_type": "execute_result"
    }
   ],
   "source": [
    "data['@value'].describe()"
   ],
   "metadata": {
    "collapsed": false,
    "pycharm": {
     "name": "#%%\n"
    }
   }
  },
  {
   "cell_type": "code",
   "execution_count": 46,
   "outputs": [
    {
     "data": {
      "text/plain": "<Figure size 432x288 with 4 Axes>",
      "image/png": "[encoded data removed]"
     },
     "metadata": {
      "needs_background": "light"
     },
     "output_type": "display_data"
    }
   ],
   "source": [
    "import statsmodels.api as sm\n",
    "df = data.copy()\n",
    "df = df.sort_values('date').set_index('date')\n",
    "\n",
    "\n",
    "decomposition = sm.tsa.seasonal_decompose(df, model='multiplicative', period=1)\n",
    "decomposition.plot();"
   ],
   "metadata": {
    "collapsed": false,
    "pycharm": {
     "name": "#%%\n"
    }
   }
  },
  {
   "cell_type": "code",
   "execution_count": null,
   "outputs": [],
   "source": [
    "x"
   ],
   "metadata": {
    "collapsed": false,
    "pycharm": {
     "name": "#%%\n"
    }
   }
  },
  {
   "cell_type": "code",
   "execution_count": null,
   "outputs": [],
   "source": [
    "def data_preprocessing():\n",
    "    energy = df[df['@type'] == 'HKQuantityTypeIdentifierActiveEnergyBurned']\n",
    "\n",
    "    format = '%Y-%m-%d %H:%M:%S %z'\n",
    "\n",
    "    energy['@creationDate'] = pd.to_datetime(energy['@creationDate'],\n",
    "                                             format=format)\n",
    "    energy['@startDate'] = pd.to_datetime(energy['@startDate'],\n",
    "                                          format=format)\n",
    "    energy['@endDate'] = pd.to_datetime(energy['@endDate'],\n",
    "                                        format=format)\n",
    "    energy['@value'] =energy['@value'].astype('float')\n",
    "\n",
    "    energy['date'] = energy['@startDate'].dt.strftime('%Y-%m-%d')\n",
    "\n",
    "    data = energy.groupby(['date'])['@value'].sum().reset_index()\n"
   ],
   "metadata": {
    "collapsed": false,
    "pycharm": {
     "name": "#%%\n"
    }
   }
  }
 ],
 "metadata": {
  "kernelspec": {
   "display_name": "Python 3",
   "language": "python",
   "name": "python3"
  },
  "language_info": {
   "codemirror_mode": {
    "name": "ipython",
    "version": 2
   },
   "file_extension": ".py",
   "mimetype": "text/x-python",
   "name": "python",
   "nbconvert_exporter": "python",
   "pygments_lexer": "ipython2",
   "version": "2.7.6"
  }
 },
 "nbformat": 4,
 "nbformat_minor": 0
}